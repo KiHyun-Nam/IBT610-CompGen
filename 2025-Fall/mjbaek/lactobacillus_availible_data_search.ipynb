{
 "cells": [
  {
   "cell_type": "code",
   "execution_count": 1,
   "id": "8cc815ce-efe0-4046-af61-879e55b3402f",
   "metadata": {
    "scrolled": true
   },
   "outputs": [
    {
     "name": "stdout",
     "output_type": "stream",
     "text": [
      "🔍 NCBI에서 Lactobacillus 관련 유전자 검색 중...\n",
      "\n",
      "✅ NCBI 등록된 Lactobacillus 유전자 총 599,419건\n"
     ]
    },
    {
     "name": "stderr",
     "output_type": "stream",
     "text": [
      "Annotation 상태 확인 중: 100%|███████████████████████████████████████████████████████| 600/600 [33:09<00:00,  3.32s/it]"
     ]
    },
    {
     "name": "stdout",
     "output_type": "stream",
     "text": [
      "\n",
      "📊 총 유전자 수: 599,419\n",
      "🧬 Annotation 정보가 포함된 서열 수: 41,385\n",
      "📈 비율: 6.90%\n",
      "\n",
      "💾 결과 파일 저장됨: Lactobacillus_annotation_summary.csv\n"
     ]
    },
    {
     "name": "stderr",
     "output_type": "stream",
     "text": [
      "\n"
     ]
    }
   ],
   "source": [
    "# --- 필수 패키지 ---\n",
    "from Bio import Entrez\n",
    "import pandas as pd\n",
    "from tqdm import tqdm\n",
    "\n",
    "# --- 본인 이메일로 변경 (필수) ---\n",
    "Entrez.email = \"qoralswl159@gmail.com\"\n",
    "\n",
    "# --- 검색 대상: NCBI Nucleotide DB ---\n",
    "search_term = \"Lactobacillus[Organism] AND (genome OR gene OR sequence)\"\n",
    "max_records = 100000  # 검색 상한 (최대 10만 건까지 조회 가능)\n",
    "\n",
    "# --- 데이터 검색 ---\n",
    "print(\"🔍 NCBI에서 Lactobacillus 관련 유전자 검색 중...\")\n",
    "handle = Entrez.esearch(db=\"nucleotide\", term=search_term, retmax=max_records)\n",
    "record = Entrez.read(handle)\n",
    "handle.close()\n",
    "\n",
    "total_count = int(record[\"Count\"])  # 전체 검색 결과 수\n",
    "print(f\"\\n✅ NCBI 등록된 Lactobacillus 유전자 총 {total_count:,}건\")\n",
    "\n",
    "# --- annotation 여부 통계 (metadata 기반) ---\n",
    "# 실제 서열은 다운로드하지 않음, 요약 정보만\n",
    "annotated = 0\n",
    "\n",
    "for start in tqdm(range(0, total_count, 1000), desc=\"Annotation 상태 확인 중\"):\n",
    "    handle = Entrez.esearch(db=\"nucleotide\", term=search_term, retstart=start, retmax=1000)\n",
    "    record = Entrez.read(handle)\n",
    "    ids = record[\"IdList\"]\n",
    "    \n",
    "    if not ids:\n",
    "        continue\n",
    "\n",
    "    summary_handle = Entrez.esummary(db=\"nucleotide\", id=\",\".join(ids))\n",
    "    summaries = Entrez.read(summary_handle)\n",
    "    summary_handle.close()\n",
    "\n",
    "    for entry in summaries:\n",
    "        title = entry.get(\"Title\", \"\").lower()\n",
    "        if \"cds\" in title or \"gene\" in title or \"annotated\" in title:\n",
    "            annotated += 1\n",
    "\n",
    "print(f\"\\n📊 총 유전자 수: {total_count:,}\")\n",
    "print(f\"🧬 Annotation 정보가 포함된 서열 수: {annotated:,}\")\n",
    "print(f\"📈 비율: {annotated / total_count * 100:.2f}%\")\n",
    "\n",
    "# --- 결과 CSV 저장 ---\n",
    "summary_df = pd.DataFrame([{\n",
    "    \"Total_sequences\": total_count,\n",
    "    \"Annotated_sequences\": annotated,\n",
    "    \"Annotation_ratio(%)\": round(annotated / total_count * 100, 2)\n",
    "}])\n",
    "summary_df.to_csv(\"Lactobacillus_annotation_summary.csv\", index=False)\n",
    "\n",
    "print(\"\\n💾 결과 파일 저장됨: Lactobacillus_annotation_summary.csv\")\n"
   ]
  },
  {
   "cell_type": "code",
   "execution_count": 2,
   "id": "62cda2f4-263b-4e6f-8438-695fbf16a380",
   "metadata": {},
   "outputs": [
    {
     "name": "stdout",
     "output_type": "stream",
     "text": [
      "전체 유전자 데이터 수: 251391\n"
     ]
    }
   ],
   "source": [
    "from Bio import Entrez\n",
    "\n",
    "# NCBI API 인증용 이메일 입력\n",
    "Entrez.email = \"your@email.com\"\n",
    "\n",
    "# 락토바실러스 유전자 서열 개수 검색\n",
    "term = 'Lactobacillus[Organism] AND srcdb_refseq[PROP]'\n",
    "handle = Entrez.esearch(db=\"nucleotide\", term=term)\n",
    "record = Entrez.read(handle)\n",
    "total_gene_count = record[\"Count\"]\n",
    "print(\"전체 유전자 데이터 수:\", total_gene_count)\n"
   ]
  },
  {
   "cell_type": "code",
   "execution_count": 3,
   "id": "febd9d23-0321-40ea-91bc-9e703d26243b",
   "metadata": {},
   "outputs": [],
   "source": [
    "import requests\n",
    "\n",
    "url = \"https://api.ncbi.nlm.nih.gov/datasets/v2alpha/genome/taxonomy/1578/download?filters=complete_genome\"\n",
    "response = requests.get(url)\n",
    "with open(\"lactobacillus_genomes.zip\", \"wb\") as f:\n",
    "    f.write(response.content)\n"
   ]
  },
  {
   "cell_type": "code",
   "execution_count": null,
   "id": "a56b81eb-5c4d-42a9-8fcd-53d6dfc01ede",
   "metadata": {},
   "outputs": [],
   "source": []
  }
 ],
 "metadata": {
  "kernelspec": {
   "display_name": "Python [conda env:lactobacillus_env]",
   "language": "python",
   "name": "conda-env-lactobacillus_env-py"
  },
  "language_info": {
   "codemirror_mode": {
    "name": "ipython",
    "version": 3
   },
   "file_extension": ".py",
   "mimetype": "text/x-python",
   "name": "python",
   "nbconvert_exporter": "python",
   "pygments_lexer": "ipython3",
   "version": "3.10.18"
  }
 },
 "nbformat": 4,
 "nbformat_minor": 5
}
