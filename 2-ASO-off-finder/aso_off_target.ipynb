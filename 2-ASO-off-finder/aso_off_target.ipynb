{
 "cells": [
  {
   "cell_type": "markdown",
   "id": "d034626b",
   "metadata": {},
   "source": [
    "# ASO off-target finder (v1.0)"
   ]
  },
  {
   "cell_type": "code",
   "execution_count": 5,
   "id": "ec052ca8",
   "metadata": {},
   "outputs": [],
   "source": [
    "# Function for distance matrix and match finding\n",
    "\n",
    "def find_match(aso, genome, allowed_difference):\n",
    "    # Create distance matrix\n",
    "    D = []\n",
    "    for i in range(len(aso)+1):\n",
    "        D.append([0]*(len(genome)+1))\n",
    "    \n",
    "    # Fill in the first column of the matrix\n",
    "    for i in range(len(aso)+1):\n",
    "        D[i][0] = i\n",
    "\n",
    "    # Fill in the rest of the matrix\n",
    "    for i in range(1, len(aso)+1): # First row/column already filled, start from 1\n",
    "        for j in range(1, len(genome)+1):\n",
    "            matrix_left = D[i][j-1] + 1\n",
    "            matrix_above = D[i-1][j] + 1\n",
    "            \n",
    "            if aso[i-1] == genome[j-1]: # If ASO and genome sequence is same\n",
    "                matrix_diagonal = D[i-1][j-1] # Do not add 1\n",
    "            else: # If ASO and genome sequence is different\n",
    "                matrix_diagonal = D[i-1][j-1] + 1 # Add 1\n",
    "            \n",
    "            # Acquire minimum distance from 3 positions\n",
    "            D[i][j] = min(matrix_left, matrix_above, matrix_diagonal)\n",
    "\n",
    "    # Count number of matches with less than allowed indel, mismatch\n",
    "    match_result = dict() # Empty dictionary\n",
    "    for distance in D[-1]: # Final line of matrix containing distance\n",
    "        if distance > allowed_difference:\n",
    "            continue\n",
    "            \n",
    "        if distance not in match_result:\n",
    "            match_result[distance] = 0 # Add key for distance\n",
    "\n",
    "        match_result[distance] += 1 # Add 1 to count\n",
    "            \n",
    "    for key, value in sorted(match_result.items()):\n",
    "        print('Total %s matches with %s indel/mismatches' % (value, key))"
   ]
  },
  {
   "cell_type": "markdown",
   "id": "e50a77f6",
   "metadata": {},
   "source": [
    "Below is a example sequence from the Coursera lecture.\n",
    "\n",
    "    seq1 = GCGTATGC\n",
    "    seq2 = TATTGGCTATACGGTT\n",
    "    \n",
    "There is 1 mismatch and 1 insertion when aligning seq1 to seq2"
   ]
  },
  {
   "cell_type": "code",
   "execution_count": 2,
   "id": "09440451",
   "metadata": {},
   "outputs": [
    {
     "name": "stdout",
     "output_type": "stream",
     "text": [
      "Total 1 matches with 2 indel/mismatches\n"
     ]
    }
   ],
   "source": [
    "aso = 'GCGTATGC'\n",
    "genome = 'TATTGGCTATACGGTT'\n",
    "\n",
    "find_match(aso, genome, 2)"
   ]
  },
  {
   "cell_type": "code",
   "execution_count": 2,
   "id": "3256557f",
   "metadata": {},
   "outputs": [],
   "source": [
    "# Code from Coursera lecture that reads FASTA files\n",
    "\n",
    "def read_fasta(filename):\n",
    "    sequence = ''\n",
    "    with open(filename) as f:\n",
    "        for line in f:\n",
    "            if not line[0] == '>':\n",
    "                sequence += line.rstrip()\n",
    "                \n",
    "    return sequence"
   ]
  },
  {
   "cell_type": "code",
   "execution_count": 3,
   "id": "e86e2592",
   "metadata": {},
   "outputs": [
    {
     "data": {
      "text/plain": [
       "'GCGTATGC'"
      ]
     },
     "execution_count": 3,
     "metadata": {},
     "output_type": "execute_result"
    }
   ],
   "source": [
    "read_fasta('example_aso.fasta')"
   ]
  },
  {
   "cell_type": "code",
   "execution_count": 4,
   "id": "4c099cbc",
   "metadata": {},
   "outputs": [
    {
     "name": "stdout",
     "output_type": "stream",
     "text": [
      "Total 1 matches with 2 indel/mismatches\n"
     ]
    }
   ],
   "source": [
    "genome_sequence = read_fasta('example_genome.fasta')\n",
    "aso_sequence = read_fasta('example_aso.fasta')\n",
    "\n",
    "find_match(aso_sequence, genome_sequence, 2)"
   ]
  },
  {
   "cell_type": "code",
   "execution_count": 6,
   "id": "1f579d98",
   "metadata": {},
   "outputs": [
    {
     "name": "stdout",
     "output_type": "stream",
     "text": [
      "Allowed indel/mismatch: 1\n",
      "Allowed indel/mismatch: 3\n",
      "Total 1 matches with 2 indel/mismatches\n",
      "Total 3 matches with 3 indel/mismatches\n"
     ]
    }
   ],
   "source": [
    "# Change allowed indel/mismatch number\n",
    "\n",
    "genome_sequence = read_fasta('example_genome.fasta')\n",
    "aso_sequence = read_fasta('example_aso.fasta')\n",
    "\n",
    "print('Allowed indel/mismatch: 1')\n",
    "find_match(aso_sequence, genome_sequence, 1)\n",
    "\n",
    "print('Allowed indel/mismatch: 3')\n",
    "find_match(aso_sequence, genome_sequence, 3)"
   ]
  },
  {
   "cell_type": "markdown",
   "id": "f1ac9f28",
   "metadata": {},
   "source": [
    "human.fasta is a sequence from part of human genome (GRCh38) chromosome 1\n",
    "\n",
    "Extracted subsequence of 36 bases, that only appear once in FASTA file:\n",
    "\n",
    "    AATCGGGTGGCTTTAACTAATGAAAATAGAATG\n",
    "\n",
    "Changes 4 bases from the original sequence:\n",
    "\n",
    "    AATG(C)GGGTGGCA(T)TTAAT(C)TAATGAAG(A)ATAGAATG"
   ]
  },
  {
   "cell_type": "code",
   "execution_count": 8,
   "id": "78bb1bdd",
   "metadata": {},
   "outputs": [
    {
     "name": "stdout",
     "output_type": "stream",
     "text": [
      "Total 1 matches with 4 indel/mismatches\n"
     ]
    }
   ],
   "source": [
    "genome_sequence = read_fasta('human.fasta')\n",
    "aso_sequence = 'AATGGGGTGGCATTAATTAATGAAGATAGAATG'\n",
    "\n",
    "find_match(aso_sequence, genome_sequence, 4)"
   ]
  },
  {
   "cell_type": "code",
   "execution_count": 9,
   "id": "44f5fe24",
   "metadata": {},
   "outputs": [],
   "source": [
    "genome_sequence = read_fasta('human.fasta')\n",
    "aso_sequence = 'AATGGGGTGGCATTAATTAATGAAGATAGAATG'\n",
    "\n",
    "find_match(aso_sequence, genome_sequence, 3)"
   ]
  }
 ],
 "metadata": {
  "kernelspec": {
   "display_name": "Python 3 (ipykernel)",
   "language": "python",
   "name": "python3"
  },
  "language_info": {
   "codemirror_mode": {
    "name": "ipython",
    "version": 3
   },
   "file_extension": ".py",
   "mimetype": "text/x-python",
   "name": "python",
   "nbconvert_exporter": "python",
   "pygments_lexer": "ipython3",
   "version": "3.9.7"
  }
 },
 "nbformat": 4,
 "nbformat_minor": 5
}
